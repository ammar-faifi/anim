{
 "cells": [
  {
   "cell_type": "code",
   "execution_count": 1,
   "metadata": {},
   "outputs": [
    {
     "data": {
      "text/html": [
       "<pre style=\"white-space:pre;overflow-x:auto;line-height:normal;font-family:Menlo,'DejaVu Sans Mono',consolas,'Courier New',monospace\">Manim Community <span style=\"color: #008000; text-decoration-color: #008000\">v0.14.0</span>\n",
       "\n",
       "</pre>\n"
      ],
      "text/plain": [
       "Manim Community \u001b[32mv0.\u001b[0m\u001b[32m14.0\u001b[0m\n",
       "\n"
      ]
     },
     "metadata": {},
     "output_type": "display_data"
    }
   ],
   "source": [
    "from manim import *"
   ]
  },
  {
   "cell_type": "code",
   "execution_count": 19,
   "metadata": {},
   "outputs": [],
   "source": [
    "class Eq(Scene):\n",
    "    def construct(self):\n",
    "        title = Tex('An $e^-$ inside potential').to_corner(UP + LEFT)\n",
    "        axes = Axes(\n",
    "            x_range=[-10, 10, 11],\n",
    "            y_range=[-1.5, 1.5, 4],\n",
    "            x_length=6,\n",
    "            y_length=3,\n",
    "            axis_config={\"color\": WHITE},\n",
    "            tips=False,\n",
    "        ).shift(2*DOWN)\n",
    "        plate_l = Rectangle(color=RED, height=6, width=2,\n",
    "                            fill_opacity=1).shift(4*LEFT)\n",
    "        plate_r = Rectangle(color=BLUE, height=6, width=2,\n",
    "                            fill_opacity=1).shift(4*RIGHT)\n",
    "\n",
    "        def func(x):\n",
    "            return np.array([1.0, 0.0, 0.0])\n",
    "        x_range = [plate_l.get_right()[0], plate_r.get_left()[0], 1.]\n",
    "        y_range = [plate_l.get_bottom()[1], plate_l.get_top()[1], 1.]\n",
    "        vector_field = ArrowVectorField(\n",
    "            func, x_range=x_range, y_range=y_range, length_func=lambda x: x / 2, opacity=0.5\n",
    "        )\n",
    "        el = Dot().move_to([0, plate_l.get_center()[1], 0])\n",
    "        plates = VGroup(plate_l, plate_r)\n",
    "        set_up = VGroup(plates, el, vector_field)\n",
    "\n",
    "        \"\"\" start of show \"\"\"\n",
    "        self.play(Create(title))\n",
    "        self.play(FadeIn(plates))\n",
    "        self.play(Create(vector_field))\n",
    "\n",
    "        self.play(Create(el))\n",
    "        self.play(set_up.animate.scale(0.5).shift(1.2 * UP))\n",
    "\n",
    "        self.play(Create(axes))\n",
    "        self.wait(1)\n"
   ]
  },
  {
   "cell_type": "code",
   "execution_count": 22,
   "metadata": {},
   "outputs": [
    {
     "name": "stderr",
     "output_type": "stream",
     "text": [
      "                                                                                              \r"
     ]
    },
    {
     "data": {
      "text/html": [
       "<video src=\"media/jupyter/Eq@2022-02-03@16-02-16.mp4\" controls autoplay loop style=\"max-width: 60%;\"  >\n",
       "      Your browser does not support the <code>video</code> element.\n",
       "    </video>"
      ],
      "text/plain": [
       "<IPython.core.display.Video object>"
      ]
     },
     "metadata": {},
     "output_type": "display_data"
    }
   ],
   "source": [
    "%manim  -ql -vERROR Eq"
   ]
  }
 ],
 "metadata": {
  "interpreter": {
   "hash": "4e0096c606ca3f972228e3e2557dda0874240db37a221794db6b7b1face1b84a"
  },
  "kernelspec": {
   "display_name": "Python 3.10.2 64-bit ('env': venv)",
   "language": "python",
   "name": "python3"
  },
  "language_info": {
   "codemirror_mode": {
    "name": "ipython",
    "version": 3
   },
   "file_extension": ".py",
   "mimetype": "text/x-python",
   "name": "python",
   "nbconvert_exporter": "python",
   "pygments_lexer": "ipython3",
   "version": "3.10.2"
  },
  "orig_nbformat": 4
 },
 "nbformat": 4,
 "nbformat_minor": 2
}
